{
  "nbformat": 4,
  "nbformat_minor": 0,
  "metadata": {
    "colab": {
      "name": "CNN Module .ipynb",
      "provenance": [],
      "authorship_tag": "ABX9TyMAEiv2PsfiwdtIdgslG98c",
      "include_colab_link": true
    },
    "kernelspec": {
      "display_name": "Python 3",
      "name": "python3"
    },
    "language_info": {
      "name": "python"
    }
  },
  "cells": [
    {
      "cell_type": "markdown",
      "metadata": {
        "id": "view-in-github",
        "colab_type": "text"
      },
      "source": [
        "<a href=\"https://colab.research.google.com/github/Despair1525/VirtualMouse/blob/main/CNN_Module_.ipynb\" target=\"_parent\"><img src=\"https://colab.research.google.com/assets/colab-badge.svg\" alt=\"Open In Colab\"/></a>"
      ]
    },
    {
      "cell_type": "markdown",
      "metadata": {
        "id": "qwgjZf0to6kx"
      },
      "source": [
        "# PREPARE DATA"
      ]
    },
    {
      "cell_type": "code",
      "metadata": {
        "colab": {
          "base_uri": "https://localhost:8080/"
        },
        "id": "KAC4mVrMA9s7",
        "outputId": "fa0ad5cf-5e85-4c65-a3c5-9a1978202f01"
      },
      "source": [
        "!git clone https://github.com/Despair1525/VirtualMouse.git"
      ],
      "execution_count": null,
      "outputs": [
        {
          "output_type": "stream",
          "name": "stdout",
          "text": [
            "Cloning into 'VirtualMouse'...\n",
            "remote: Enumerating objects: 111, done.\u001b[K\n",
            "remote: Counting objects: 100% (111/111), done.\u001b[K\n",
            "remote: Compressing objects: 100% (77/77), done.\u001b[K\n",
            "remote: Total 111 (delta 45), reused 90 (delta 30), pack-reused 0\u001b[K\n",
            "Receiving objects: 100% (111/111), 118.84 MiB | 35.54 MiB/s, done.\n",
            "Resolving deltas: 100% (45/45), done.\n"
          ]
        }
      ]
    },
    {
      "cell_type": "code",
      "metadata": {
        "colab": {
          "base_uri": "https://localhost:8080/"
        },
        "id": "HLKXavn7BEyQ",
        "outputId": "fe65a30e-8b92-44e3-f473-1a336c1d6dab"
      },
      "source": [
        "import zipfile\n",
        "import os\n",
        "\n",
        "import numpy as np\n",
        "import matplotlib.pyplot as plt\n",
        "import cv2\n",
        "import pandas as pd\n",
        "\n",
        "import tensorflow as tf\n",
        "from tensorflow import keras\n",
        "from tensorflow.keras.optimizers import RMSprop\n",
        "from tensorflow.keras.preprocessing.image import ImageDataGenerator\n",
        "from sklearn.model_selection import train_test_split \n",
        "from sklearn.metrics import confusion_matrix\n",
        "#Creating module\n",
        "from keras.models import Sequential\n",
        "from keras.layers.convolutional import Conv2D, MaxPooling2D\n",
        "from tensorflow.keras.callbacks import ReduceLROnPlateau\n",
        "import matplotlib.pyplot as plt\n",
        "from tensorflow.keras.models import Sequential\n",
        "from tensorflow.keras.layers import Conv2D, MaxPool2D, Flatten, Dense, Dropout, BatchNormalization\n",
        "from time import perf_counter\n",
        "import seaborn as sns\n",
        "print(tf.__version__)"
      ],
      "execution_count": null,
      "outputs": [
        {
          "output_type": "stream",
          "name": "stdout",
          "text": [
            "2.6.0\n"
          ]
        }
      ]
    },
    {
      "cell_type": "code",
      "metadata": {
        "id": "R5a8wZAEBHO-"
      },
      "source": [
        "local_zip = '/content/VirtualMouse/Data/BinaryData.zip'\n",
        "zip_ref = zipfile.ZipFile(local_zip, 'r')\n",
        "zip_ref.extractall()\n",
        "zip_ref.close()"
      ],
      "execution_count": null,
      "outputs": []
    },
    {
      "cell_type": "code",
      "metadata": {
        "id": "695QQb48CXJt"
      },
      "source": [
        "ImagesPath=[]\n",
        "rootPath='/content/BinaryData'\n",
        "count = 0\n",
        "for ImagesFile in os.listdir('/content/BinaryData'):\n",
        "  filePath=os.path.join(rootPath,ImagesFile)\n",
        "  for Images in os.listdir(filePath):\n",
        "    # if int(filePath.split('/')[-1]) ==3 :\n",
        "    #   count +=1\n",
        "    # if count == 2000:\n",
        "    #   continue\n",
        "    ImagesPath.append(os.path.join(filePath,Images))\n",
        "print(len(ImagesPath))"
      ],
      "execution_count": null,
      "outputs": []
    },
    {
      "cell_type": "markdown",
      "metadata": {
        "id": "VqZuGANPATtW"
      },
      "source": [
        "\n",
        "\n",
        "1.   Index\n",
        "2.   Two\n",
        "3.   Three\n",
        "4.   BackGround\n",
        "\n"
      ]
    },
    {
      "cell_type": "code",
      "metadata": {
        "id": "HfKI2fDTHCw5"
      },
      "source": [
        "def plot_image(path,color=True,resize=(0,0)):\n",
        "  try:\n",
        "    img = cv2.imread(path,0) \n",
        "  except:\n",
        "    print(\"Path is Images\")\n",
        "    img=path\n",
        "  # img = cv2.cvtColor(img,cv2.COLOR_BGR2RGB)\n",
        "  img = cv2.cvtColor(img,cv2.COLOR_GRAY2RGB)\n",
        "  if color== False:\n",
        "    img = cv2.cvtColor(img, cv2.COLOR_RGB2GRAY) \n",
        "  if resize != (0,0):\n",
        "    img= cv2.resize(img,resize)\n",
        "  print(img.shape) \n",
        "  plt.imshow(img) \n",
        "  plt.xlabel(\"Width\")\n",
        "  plt.ylabel(\"Height\")\n"
      ],
      "execution_count": null,
      "outputs": []
    },
    {
      "cell_type": "code",
      "metadata": {
        "colab": {
          "base_uri": "https://localhost:8080/",
          "height": 298
        },
        "id": "xLPfHZ9k7tkQ",
        "outputId": "44765a33-49ed-4143-aa3b-6e4fe7e944dd"
      },
      "source": [
        "plot_image('/content/BinaryData/1/5312.jpg',resize=(40,40))"
      ],
      "execution_count": null,
      "outputs": [
        {
          "output_type": "stream",
          "name": "stdout",
          "text": [
            "(40, 40, 3)\n"
          ]
        },
        {
          "output_type": "display_data",
          "data": {
            "image/png": "[encoded data removed]",
            "text/plain": [
              "<Figure size 432x288 with 1 Axes>"
            ]
          },
          "metadata": {
            "needs_background": "light"
          }
        }
      ]
    },
    {
      "cell_type": "code",
      "metadata": {
        "id": "kRCt9xjgCwly"
      },
      "source": [
        "X=[] # transfer to images data\n",
        "y=[] # lables\n",
        "count =0\n",
        "for image_path in ImagesPath:\n",
        "  img=cv2.imread(image_path,0)\n",
        "  # img= cv2.cvtColor(img,cv2.COLOR_BGR2GRAY)\n",
        "  img=cv2.resize(img,(40,40))\n",
        "  X.append(img)\n",
        "  Y= int(image_path.split(\"/\")[-2])\n",
        "  if Y==4 :\n",
        "    Y=0\n",
        "  y.append(Y)"
      ],
      "execution_count": null,
      "outputs": []
    },
    {
      "cell_type": "code",
      "metadata": {
        "id": "hBQXgOAsHwWT"
      },
      "source": [
        "X=np.array(X,dtype=\"uint8\")\n",
        "X=X.reshape(len(y),40,40,1)\n",
        "y=np.array(y)"
      ],
      "execution_count": null,
      "outputs": []
    },
    {
      "cell_type": "code",
      "metadata": {
        "id": "TcXWzKt3GyTw"
      },
      "source": [
        "# split data\n",
        "ts = 0.2 # Percentage of images that we want to use for testing. The rest is used for training.\n",
        "X_train, X_test, y_train, y_test = train_test_split(X, y, test_size=ts, random_state=42)\n"
      ],
      "execution_count": null,
      "outputs": []
    },
    {
      "cell_type": "code",
      "metadata": {
        "colab": {
          "base_uri": "https://localhost:8080/"
        },
        "id": "5IXqXRejHpdL",
        "outputId": "4f8589eb-ccf8-4c64-8e7f-69e53bbfbaf9"
      },
      "source": [
        "print(X_train.shape)"
      ],
      "execution_count": null,
      "outputs": [
        {
          "output_type": "stream",
          "name": "stdout",
          "text": [
            "(11455, 40, 40, 1)\n"
          ]
        }
      ]
    },
    {
      "cell_type": "code",
      "metadata": {
        "id": "dSnqsFpunhLW"
      },
      "source": [
        "generator = tf.keras.preprocessing.image.ImageDataGenerator(rescale=1./200,\n",
        "                                                            rotation_range=10,\n",
        "                                                            zoom_range=0.10,\n",
        "                                                            width_shift_range=0.1,\n",
        "                                                            height_shift_range=0.1,\n",
        "                                                            shear_range=0.1,\n",
        "                                                            horizontal_flip=False,\n",
        "                                                            fill_mode=\"nearest\")\n",
        "\n",
        "X_train_flow = generator.flow(X_train, y_train, batch_size=32)\n",
        "X_val_flow = generator.flow(X_test ,y_test, batch_size=32)\n",
        "\n",
        "# X_test_flow = generator.flow(X_test, y_test)"
      ],
      "execution_count": null,
      "outputs": []
    },
    {
      "cell_type": "code",
      "metadata": {
        "colab": {
          "base_uri": "https://localhost:8080/"
        },
        "id": "KT9AsvmsCo-D",
        "outputId": "741eacf6-2b1f-47f1-ba28-c55ed1bb2e01"
      },
      "source": [
        "print(len(X_test))\n",
        "print(len(X_train))"
      ],
      "execution_count": null,
      "outputs": [
        {
          "output_type": "stream",
          "name": "stdout",
          "text": [
            "2864\n",
            "11455\n"
          ]
        }
      ]
    },
    {
      "cell_type": "markdown",
      "metadata": {
        "id": "Elf4GVFdpEiu"
      },
      "source": [
        "#CREATE MODULE"
      ]
    },
    {
      "cell_type": "code",
      "metadata": {
        "colab": {
          "base_uri": "https://localhost:8080/"
        },
        "id": "PWi0DIIlDzM_",
        "outputId": "7b58c790-6e32-449c-c09e-bd86a8630424"
      },
      "source": [
        "\n",
        "model = Sequential([Conv2D(filters=32,  kernel_size=(3,3), activation=\"relu\", input_shape=(40,40,1)),\n",
        "                    MaxPool2D(2,2, padding='same'),\n",
        "                    Conv2D(filters=64,  kernel_size=(3,3), activation=\"relu\"),\n",
        "                    MaxPool2D(2,2, padding='same'),\n",
        "                    Conv2D(filters=128,  kernel_size=(3,3), activation=\"relu\"),\n",
        "                    MaxPool2D(2,2, padding='same'),\n",
        "                    \n",
        "                    Conv2D(filters=512, kernel_size=(3,3), activation=\"relu\"),\n",
        "                    MaxPool2D(2,2, padding='same'),\n",
        "                    \n",
        "                    Flatten(),\n",
        "                    \n",
        "                    Dense(units=1024, activation=\"relu\"),                 \n",
        "                    Dense(units=256, activation=\"relu\"),\n",
        "                    Dense(units= 32,activation=\"relu\"),\n",
        "                    Dropout(0.5),\n",
        "                    Dense(units=4, activation=\"softmax\")\n",
        "])\n",
        "\n",
        "model.compile(optimizer='adam', loss=\"sparse_categorical_crossentropy\", metrics=[\"accuracy\"])\n",
        "\n",
        "\n",
        "model.summary()"
      ],
      "execution_count": null,
      "outputs": [
        {
          "output_type": "stream",
          "name": "stdout",
          "text": [
            "Model: \"sequential_1\"\n",
            "_________________________________________________________________\n",
            "Layer (type)                 Output Shape              Param #   \n",
            "=================================================================\n",
            "conv2d_3 (Conv2D)            (None, 38, 38, 32)        320       \n",
            "_________________________________________________________________\n",
            "max_pooling2d_3 (MaxPooling2 (None, 19, 19, 32)        0         \n",
            "_________________________________________________________________\n",
            "conv2d_4 (Conv2D)            (None, 17, 17, 64)        18496     \n",
            "_________________________________________________________________\n",
            "max_pooling2d_4 (MaxPooling2 (None, 9, 9, 64)          0         \n",
            "_________________________________________________________________\n",
            "conv2d_5 (Conv2D)            (None, 7, 7, 128)         73856     \n",
            "_________________________________________________________________\n",
            "max_pooling2d_5 (MaxPooling2 (None, 4, 4, 128)         0         \n",
            "_________________________________________________________________\n",
            "conv2d_6 (Conv2D)            (None, 2, 2, 512)         590336    \n",
            "_________________________________________________________________\n",
            "max_pooling2d_6 (MaxPooling2 (None, 1, 1, 512)         0         \n",
            "_________________________________________________________________\n",
            "flatten_1 (Flatten)          (None, 512)               0         \n",
            "_________________________________________________________________\n",
            "dense_4 (Dense)              (None, 1024)              525312    \n",
            "_________________________________________________________________\n",
            "dense_5 (Dense)              (None, 256)               262400    \n",
            "_________________________________________________________________\n",
            "dense_6 (Dense)              (None, 32)                8224      \n",
            "_________________________________________________________________\n",
            "dropout_1 (Dropout)          (None, 32)                0         \n",
            "_________________________________________________________________\n",
            "dense_7 (Dense)              (None, 4)                 132       \n",
            "=================================================================\n",
            "Total params: 1,479,076\n",
            "Trainable params: 1,479,076\n",
            "Non-trainable params: 0\n",
            "_________________________________________________________________\n"
          ]
        }
      ]
    },
    {
      "cell_type": "code",
      "metadata": {
        "colab": {
          "base_uri": "https://localhost:8080/"
        },
        "id": "1c9bWF9uL1qK",
        "outputId": "d1cb0acf-46ea-442a-8561-e04681a8df13"
      },
      "source": [
        "# history=model.fit(X_train, y_train, epochs=10, batch_size=64, verbose=2, validation_data=(X_test, y_test))\n",
        "\n",
        "class_weight = {\n",
        "    0: 1.0,\n",
        "    1: 6,\n",
        "    2: 1.0,\n",
        "    3: 0.5,\n",
        "    4: 1.0\n",
        "}\n",
        "learning_rate_reduction = ReduceLROnPlateau(monitor='val_accuracy', patience = 2, verbose=1,factor=0.5, min_lr=0.00001)\n",
        "\n",
        "history = model.fit(X_train_flow, \n",
        "                    validation_data=X_val_flow,class_weight=class_weight ,\n",
        "                    epochs=100,\n",
        "                    callbacks=[\n",
        "                            tf.keras.callbacks.EarlyStopping(\n",
        "                            monitor='val_loss',\n",
        "                            patience=5,\n",
        "                            restore_best_weights=True), \n",
        "                        \n",
        "                            learning_rate_reduction\n",
        "                    ])"
      ],
      "execution_count": null,
      "outputs": [
        {
          "output_type": "stream",
          "name": "stdout",
          "text": [
            "Epoch 1/100\n",
            "358/358 [==============================] - 61s 166ms/step - loss: 1.0060 - accuracy: 0.6488 - val_loss: 0.3278 - val_accuracy: 0.8994\n",
            "Epoch 2/100\n",
            "358/358 [==============================] - 59s 165ms/step - loss: 0.4136 - accuracy: 0.8722 - val_loss: 0.1411 - val_accuracy: 0.9647\n",
            "Epoch 3/100\n",
            "358/358 [==============================] - 61s 169ms/step - loss: 0.2512 - accuracy: 0.9232 - val_loss: 0.1271 - val_accuracy: 0.9647\n",
            "Epoch 4/100\n",
            "358/358 [==============================] - 59s 164ms/step - loss: 0.2089 - accuracy: 0.9382 - val_loss: 0.0623 - val_accuracy: 0.9864\n",
            "Epoch 5/100\n",
            "358/358 [==============================] - 59s 164ms/step - loss: 0.1779 - accuracy: 0.9496 - val_loss: 0.0825 - val_accuracy: 0.9801\n",
            "Epoch 6/100\n",
            "358/358 [==============================] - 59s 164ms/step - loss: 0.2165 - accuracy: 0.9448 - val_loss: 0.0726 - val_accuracy: 0.9829\n",
            "\n",
            "Epoch 00006: ReduceLROnPlateau reducing learning rate to 0.0005000000237487257.\n",
            "Epoch 7/100\n",
            "358/358 [==============================] - 60s 168ms/step - loss: 0.1309 - accuracy: 0.9634 - val_loss: 0.0427 - val_accuracy: 0.9892\n",
            "Epoch 8/100\n",
            "358/358 [==============================] - 61s 171ms/step - loss: 0.1096 - accuracy: 0.9699 - val_loss: 0.0664 - val_accuracy: 0.9815\n",
            "Epoch 9/100\n",
            "358/358 [==============================] - 60s 167ms/step - loss: 0.1088 - accuracy: 0.9701 - val_loss: 0.0663 - val_accuracy: 0.9839\n",
            "\n",
            "Epoch 00009: ReduceLROnPlateau reducing learning rate to 0.0002500000118743628.\n",
            "Epoch 10/100\n",
            "358/358 [==============================] - 60s 167ms/step - loss: 0.0869 - accuracy: 0.9742 - val_loss: 0.0418 - val_accuracy: 0.9885\n",
            "Epoch 11/100\n",
            "358/358 [==============================] - 60s 168ms/step - loss: 0.0715 - accuracy: 0.9797 - val_loss: 0.0368 - val_accuracy: 0.9923\n",
            "Epoch 12/100\n",
            "358/358 [==============================] - 60s 167ms/step - loss: 0.0786 - accuracy: 0.9765 - val_loss: 0.0514 - val_accuracy: 0.9895\n",
            "Epoch 13/100\n",
            "358/358 [==============================] - 60s 167ms/step - loss: 0.0644 - accuracy: 0.9826 - val_loss: 0.0519 - val_accuracy: 0.9892\n",
            "\n",
            "Epoch 00013: ReduceLROnPlateau reducing learning rate to 0.0001250000059371814.\n",
            "Epoch 14/100\n",
            "358/358 [==============================] - 60s 167ms/step - loss: 0.0684 - accuracy: 0.9813 - val_loss: 0.0321 - val_accuracy: 0.9923\n",
            "Epoch 15/100\n",
            "358/358 [==============================] - 60s 167ms/step - loss: 0.0723 - accuracy: 0.9801 - val_loss: 0.0262 - val_accuracy: 0.9920\n",
            "\n",
            "Epoch 00015: ReduceLROnPlateau reducing learning rate to 6.25000029685907e-05.\n",
            "Epoch 16/100\n",
            "358/358 [==============================] - 58s 163ms/step - loss: 0.0580 - accuracy: 0.9827 - val_loss: 0.0337 - val_accuracy: 0.9920\n",
            "Epoch 17/100\n",
            "358/358 [==============================] - 59s 166ms/step - loss: 0.0576 - accuracy: 0.9835 - val_loss: 0.0267 - val_accuracy: 0.9934\n",
            "Epoch 18/100\n",
            "358/358 [==============================] - 59s 165ms/step - loss: 0.0485 - accuracy: 0.9843 - val_loss: 0.0394 - val_accuracy: 0.9927\n",
            "Epoch 19/100\n",
            "358/358 [==============================] - 59s 164ms/step - loss: 0.0609 - accuracy: 0.9846 - val_loss: 0.0522 - val_accuracy: 0.9881\n",
            "\n",
            "Epoch 00019: ReduceLROnPlateau reducing learning rate to 3.125000148429535e-05.\n",
            "Epoch 20/100\n",
            "358/358 [==============================] - 58s 162ms/step - loss: 0.0570 - accuracy: 0.9823 - val_loss: 0.0286 - val_accuracy: 0.9920\n"
          ]
        }
      ]
    },
    {
      "cell_type": "code",
      "metadata": {
        "id": "aDOptmg6L3Om"
      },
      "source": [
        "model.save('/content/drive/MyDrive/ModuleSave/HGR.h5')"
      ],
      "execution_count": null,
      "outputs": []
    },
    {
      "cell_type": "markdown",
      "metadata": {
        "id": "eTh3u2SUpJr6"
      },
      "source": [
        "#VISUAL RESULT"
      ]
    },
    {
      "cell_type": "code",
      "metadata": {
        "colab": {
          "base_uri": "https://localhost:8080/",
          "height": 578
        },
        "id": "C9ou9PhLAxoQ",
        "outputId": "5d3c2280-52b4-4a6e-a92c-7634796a6fe1"
      },
      "source": [
        "#-----------------------------------------------------------\n",
        "# Retrieve a list of list results on training and test data\n",
        "# sets for each training epoch\n",
        "#-----------------------------------------------------------\n",
        "acc      = history.history[     'accuracy' ]\n",
        "val_acc  = history.history[ 'val_accuracy' ]\n",
        "loss     = history.history[    'loss' ]\n",
        "val_loss = history.history['val_loss' ]\n",
        "\n",
        "epochs   = range(len(acc)) # Get number of epochs\n",
        "\n",
        "#------------------------------------------------\n",
        "# Plot training and validation accuracy per epoch\n",
        "#------------------------------------------------\n",
        "plt.plot  ( epochs,     acc )\n",
        "plt.plot  ( epochs, val_acc )\n",
        "plt.legend()\n",
        "plt.title ('Training and validation accuracy')\n",
        "plt.legend([\"trainning\",\"validation\"])\n",
        "\n",
        "plt.figure()\n",
        "\n",
        "#------------------------------------------------\n",
        "# Plot training and validation loss per epoch\n",
        "#------------------------------------------------\n",
        "plt.plot  ( epochs,     loss )\n",
        "plt.plot  ( epochs, val_loss )\n",
        "plt.legend([\"trainning\",\"validation\"])\n",
        "plt.title ('Training and validation loss'   )\n"
      ],
      "execution_count": null,
      "outputs": [
        {
          "output_type": "stream",
          "name": "stderr",
          "text": [
            "No handles with labels found to put in legend.\n"
          ]
        },
        {
          "output_type": "execute_result",
          "data": {
            "text/plain": [
              "Text(0.5, 1.0, 'Training and validation loss')"
            ]
          },
          "metadata": {},
          "execution_count": 20
        },
        {
          "output_type": "display_data",
          "data": {
            "image/png": "[encoded data removed]",
            "text/plain": [
              "<Figure size 432x288 with 1 Axes>"
            ]
          },
          "metadata": {
            "needs_background": "light"
          }
        },
        {
          "output_type": "display_data",
          "data": {
            "image/png": "[encoded data removed]",
            "text/plain": [
              "<Figure size 432x288 with 1 Axes>"
            ]
          },
          "metadata": {
            "needs_background": "light"
          }
        }
      ]
    },
    {
      "cell_type": "code",
      "metadata": {
        "colab": {
          "resources": {
            "http://localhost:8080/nbextensions/google.colab/files.js": {
              "data": "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",
              "ok": true,
              "headers": [
                [
                  "content-type",
                  "application/javascript"
                ]
              ],
              "status": 200,
              "status_text": ""
            }
          },
          "base_uri": "https://localhost:8080/",
          "height": 404
        },
        "id": "gRm2MgXuHn8U",
        "outputId": "d126e9aa-8508-4342-b183-590dc342bd51"
      },
      "source": [
        "import numpy as np\n",
        "\n",
        "from google.colab import files\n",
        "from keras.preprocessing import image\n",
        "\n",
        "uploaded=files.upload()\n",
        "\n",
        "def plot_image2(img):\n",
        "  img_cvt = img\n",
        "  print(img_cvt.shape) # Prints the shape of the image just to check\n",
        "  plt.imshow(img_cvt) # Shows the image\n",
        "  plt.xlabel(\"Width\")\n",
        "  plt.ylabel(\"Height\")\n",
        "  plt.title(\"Image \" + path)\n",
        "\n",
        "for fn in uploaded.keys():\n",
        " \n",
        "  # predicting images\n",
        "  path='/content/' + fn\n",
        "  img=cv2.imread(path,1)\n",
        "  img=cv2.cvtColor(img,cv2.COLOR_BGR2GRAY)\n",
        "  # img = cv2.cvtColor(img, cv2.COLOR) \n",
        "  img=cv2.resize(img,(40,40),interpolation=cv2.INTER_AREA)\n",
        "  # img = cv2.imread(img) # Reads the image into a numpy.array\n",
        "  images=np.array(img)\n",
        "  images=images.reshape(1,40,40,1)\n",
        "  plot_image(img)\n",
        "  classes = model.predict(images)\n",
        "  predicted_label = np.argmax(classes)\n",
        "  print(classes)\n",
        "  print(predicted_label)\n",
        "  \n"
      ],
      "execution_count": null,
      "outputs": [
        {
          "output_type": "display_data",
          "data": {
            "text/html": [
              "\n",
              "     <input type=\"file\" id=\"files-6f2daf70-d241-43da-988c-2864be4a700a\" name=\"files[]\" multiple disabled\n",
              "        style=\"border:none\" />\n",
              "     <output id=\"result-6f2daf70-d241-43da-988c-2864be4a700a\">\n",
              "      Upload widget is only available when the cell has been executed in the\n",
              "      current browser session. Please rerun this cell to enable.\n",
              "      </output>\n",
              "      <script src=\"/nbextensions/google.colab/files.js\"></script> "
            ],
            "text/plain": [
              "<IPython.core.display.HTML object>"
            ]
          },
          "metadata": {}
        },
        {
          "output_type": "stream",
          "name": "stdout",
          "text": [
            "Saving 2021-09-29 (2).png to 2021-09-29 (2).png\n",
            "Path is Images\n",
            "(40, 40, 3)\n",
            "[[0.0000000e+00 0.0000000e+00 1.0000000e+00 3.1409177e-32]]\n",
            "2\n"
          ]
        },
        {
          "output_type": "display_data",
          "data": {
            "image/png": "[encoded data removed]",
            "text/plain": [
              "<Figure size 432x288 with 1 Axes>"
            ]
          },
          "metadata": {
            "needs_background": "light"
          }
        }
      ]
    },
    {
      "cell_type": "markdown",
      "metadata": {
        "id": "UHVLF2stIu_N"
      },
      "source": [
        ""
      ]
    }
  ]
}